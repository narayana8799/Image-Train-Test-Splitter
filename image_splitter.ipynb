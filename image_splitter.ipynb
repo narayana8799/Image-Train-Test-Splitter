{
 "cells": [
  {
   "cell_type": "code",
   "execution_count": 1,
   "metadata": {},
   "outputs": [],
   "source": [
    "import os\n",
    "import numpy as np\n",
    "import shutil"
   ]
  },
  {
   "cell_type": "code",
   "execution_count": 6,
   "metadata": {},
   "outputs": [],
   "source": [
    "def img_validator(location='./', imgfromat='jpeg', train_size=0, test_size=0, shift_type='copy'):\n",
    "        \n",
    "    location = location.replace('/', '\\\\')\n",
    "    os.chdir(location)\n",
    "    files = os.listdir()\n",
    "    files = np.array([x for x in files if x.split('.')[-1]==imgfromat])\n",
    "    \n",
    "    if not train_size and not test_size:\n",
    "        train_size = 0.8\n",
    "        test_size = 0.2\n",
    "    else:\n",
    "        if not train_size:\n",
    "            train_size = abs(1-test_size)\n",
    "        else:\n",
    "            test_size = abs(1-train_size)\n",
    "    \n",
    "    os.makedirs('Train')\n",
    "    os.makedirs('Test')\n",
    "\n",
    "    np.random.shuffle(files)\n",
    "    margin = int(((train_size*100)/100)*files.size)\n",
    "    \n",
    "    os.chdir('Train')\n",
    "    for i in files[:margin-1]:\n",
    "        shutil.copy(os.path.join(location, i), '.\\\\')\n",
    "    \n",
    "    os.chdir(os.path.join(location, '.\\\\Test'))\n",
    "    for i in files[margin-1:]:\n",
    "        shutil.copy(os.path.join(location, i), '.\\\\')\n",
    "        \n",
    "    print(f'Train Images : {files[:margin-1].size}\\nTest Images : {files[margin-1:].size}')\n",
    "    return {'Train Images': files[:margin-1],\n",
    "            'Test Images' : files[margin-1:]}"
   ]
  },
  {
   "cell_type": "code",
   "execution_count": 4,
   "metadata": {},
   "outputs": [
    {
     "data": {
      "text/plain": [
       "'Train Images : 4\\nTest Images : 2'"
      ]
     },
     "execution_count": 4,
     "metadata": {},
     "output_type": "execute_result"
    }
   ],
   "source": [
    "img_validator('D:\\DataSets', test_size=.15)"
   ]
  },
  {
   "cell_type": "code",
   "execution_count": 1,
   "metadata": {},
   "outputs": [
    {
     "name": "stdout",
     "output_type": "stream",
     "text": [
      "\n",
      "gopi\n"
     ]
    }
   ],
   "source": [
    "print(f'\\ngopi')"
   ]
  },
  {
   "cell_type": "code",
   "execution_count": null,
   "metadata": {},
   "outputs": [],
   "source": []
  }
 ],
 "metadata": {
  "kernelspec": {
   "display_name": "Python 3",
   "language": "python",
   "name": "python3"
  },
  "language_info": {
   "codemirror_mode": {
    "name": "ipython",
    "version": 3
   },
   "file_extension": ".py",
   "mimetype": "text/x-python",
   "name": "python",
   "nbconvert_exporter": "python",
   "pygments_lexer": "ipython3",
   "version": "3.7.6"
  }
 },
 "nbformat": 4,
 "nbformat_minor": 4
}
